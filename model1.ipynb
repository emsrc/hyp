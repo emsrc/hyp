{
 "cells": [
  {
   "cell_type": "markdown",
   "metadata": {},
   "source": [
    "# Model 1"
   ]
  },
  {
   "cell_type": "markdown",
   "metadata": {},
   "source": [
    "This is a first attempt at modelling the Iron Hypothesis with graphs. Here the nodes are Increase/Decrease events for specific variables."
   ]
  },
  {
   "cell_type": "code",
   "execution_count": 3,
   "metadata": {
    "collapsed": false
   },
   "outputs": [],
   "source": [
    "from py2neo import Graph, Node, Relationship\n",
    "from scripts.vis import draw"
   ]
  },
  {
   "cell_type": "code",
   "execution_count": 4,
   "metadata": {
    "collapsed": false
   },
   "outputs": [
    {
     "data": {
      "text/html": [
       "\n",
       "        <iframe\n",
       "            width=\"100%\"\n",
       "            height=\"400\"\n",
       "            src=\"figure/graph-9e84075c-552e-411a-8454-6835f29096eb.html\"\n",
       "            frameborder=\"0\"\n",
       "            allowfullscreen\n",
       "        ></iframe>\n",
       "        "
      ],
      "text/plain": [
       "<IPython.lib.display.IFrame at 0x104570198>"
      ]
     },
     "execution_count": 4,
     "metadata": {},
     "output_type": "execute_result"
    }
   ],
   "source": [
    "# create new empty graph\n",
    "graph = Graph()\n",
    "graph.delete_all()\n",
    "\n",
    "# select \"var\" property as the node label to use in visualization\n",
    "options = {\"Increase\": \"var\", \"Decrease\": \"var\"}\n",
    "\n",
    "# create causal relation\n",
    "iron = Node(\"Increase\", var=\"iron to seawater\")\n",
    "phytoplankton = Node(\"Increase\", var=\"phytoplankton\")\n",
    "cause1 = Relationship(iron, \"CAUSES\", phytoplankton)\n",
    "graph.create(iron, phytoplankton, cause1)\n",
    "\n",
    "# create isa relation\n",
    "producer = Node(\"Increase\", var=\"primary producers\")\n",
    "isa = Relationship(phytoplankton, \"ISA\", producer)\n",
    "graph.create(producer, isa)\n",
    "\n",
    "# create cause2 relation\n",
    "production = Node(\"Increase\", var=\"productivity\")\n",
    "cause2 = Relationship(producer, \"CAUSES\", production)\n",
    "graph.create(production, cause2)\n",
    "\n",
    "\n",
    "draw(graph, options)"
   ]
  },
  {
   "cell_type": "code",
   "execution_count": 5,
   "metadata": {
    "collapsed": false
   },
   "outputs": [
    {
     "data": {
      "text/html": [
       "\n",
       "        <iframe\n",
       "            width=\"100%\"\n",
       "            height=\"400\"\n",
       "            src=\"figure/graph-0f94c00a-f5d5-4d48-83ce-4494e5c845e5.html\"\n",
       "            frameborder=\"0\"\n",
       "            allowfullscreen\n",
       "        ></iframe>\n",
       "        "
      ],
      "text/plain": [
       "<IPython.lib.display.IFrame at 0x10456b780>"
      ]
     },
     "execution_count": 5,
     "metadata": {},
     "output_type": "execute_result"
    }
   ],
   "source": [
    "# infer new causal relation\n",
    "\n",
    "query = \"\"\"\n",
    "MATCH (cause) -[:CAUSES]-> (effect), (effect) -[:ISA]-> (superclass)\n",
    "CREATE(cause) -[:CAUSES {type:'inferred'}]-> (superclass)\n",
    "\"\"\"\n",
    "\n",
    "graph.cypher.execute(query)\n",
    "\n",
    "draw(graph, options)"
   ]
  },
  {
   "cell_type": "code",
   "execution_count": 6,
   "metadata": {
    "collapsed": false
   },
   "outputs": [
    {
     "data": {
      "text/plain": [
       "   | variables                                                \n",
       "---+-----------------------------------------------------------\n",
       " 1 | ['iron to seawater', 'phytoplankton']                    \n",
       " 2 | ['iron to seawater', 'primary producers']                \n",
       " 3 | ['iron to seawater', 'primary producers', 'productivity']"
      ]
     },
     "execution_count": 6,
     "metadata": {},
     "output_type": "execute_result"
    }
   ],
   "source": [
    "query = \"\"\"\n",
    "MATCH path = (:Increase {var:'iron to seawater'})-[:CAUSES*]->()\n",
    "WITH extract(node IN nodes(path) | node.var) AS variables\n",
    "RETURN variables\n",
    "\"\"\"\n",
    "\n",
    "graph.cypher.execute(query)"
   ]
  },
  {
   "cell_type": "code",
   "execution_count": 7,
   "metadata": {
    "collapsed": false
   },
   "outputs": [
    {
     "data": {
      "text/plain": [
       "   | chains                                                                                       \n",
       "---+-----------------------------------------------------------------------------------------------\n",
       " 1 | ['Increase of iron to seawater', 'Increase of phytoplankton']                                \n",
       " 2 | ['Increase of iron to seawater', 'Increase of primary producers']                            \n",
       " 3 | ['Increase of iron to seawater', 'Increase of primary producers', 'Increase of productivity']"
      ]
     },
     "execution_count": 7,
     "metadata": {},
     "output_type": "execute_result"
    }
   ],
   "source": [
    "query = \"\"\"\n",
    "MATCH path = (:Increase {var:'iron to seawater'})-[:CAUSES*]->()\n",
    "WITH extract(node IN nodes(path) | head(Labels(node)) + ' of ' + node.var) AS chains\n",
    "RETURN chains\n",
    "\"\"\"\n",
    "\n",
    "graph.cypher.execute(query)"
   ]
  },
  {
   "cell_type": "code",
   "execution_count": 8,
   "metadata": {
    "collapsed": false
   },
   "outputs": [
    {
     "data": {
      "text/html": [
       "\n",
       "        <iframe\n",
       "            width=\"100%\"\n",
       "            height=\"400\"\n",
       "            src=\"figure/graph-52d97f6d-d089-4d6e-b787-a1e26c5c5a24.html\"\n",
       "            frameborder=\"0\"\n",
       "            allowfullscreen\n",
       "        ></iframe>\n",
       "        "
      ],
      "text/plain": [
       "<IPython.lib.display.IFrame at 0x1045512e8>"
      ]
     },
     "execution_count": 8,
     "metadata": {},
     "output_type": "execute_result"
    }
   ],
   "source": [
    "# create causal relation\n",
    "net_high_lat_prod = Node(\"Increase\", var=\"the net high latitude productivity\")\n",
    "pco2_ice_age = Node(\"Decrease\", var=\"PCO2 of the last ice age\")\n",
    "cause3 = Relationship(net_high_lat_prod, \"CAUSES\", pco2_ice_age)\n",
    "graph.create(net_high_lat_prod, pco2_ice_age, cause3)\n",
    "\n",
    "# create generalization\n",
    "gen1 = Relationship(production, \"GENERALISES\", net_high_lat_prod)\n",
    "graph.create(gen1)\n",
    "\n",
    "# create generalization\n",
    "pco2 = Node(\"Decrease\", var=\"PCO2\")\n",
    "gen2 = Relationship(pco2, \"GENERALISES\", pco2_ice_age)\n",
    "graph.create(pco2, gen2)\n",
    "\n",
    "draw(graph, options)"
   ]
  },
  {
   "cell_type": "code",
   "execution_count": 9,
   "metadata": {
    "collapsed": false
   },
   "outputs": [
    {
     "data": {
      "text/html": [
       "\n",
       "        <iframe\n",
       "            width=\"100%\"\n",
       "            height=\"400\"\n",
       "            src=\"figure/graph-79c1ba01-9983-4e15-8245-2c75f9d0adfb.html\"\n",
       "            frameborder=\"0\"\n",
       "            allowfullscreen\n",
       "        ></iframe>\n",
       "        "
      ],
      "text/plain": [
       "<IPython.lib.display.IFrame at 0x1045705c0>"
      ]
     },
     "execution_count": 9,
     "metadata": {},
     "output_type": "execute_result"
    }
   ],
   "source": [
    "# infer new causal relation between \"productivity\" and \"PCO2 of the last ice age\"\n",
    "\n",
    "query = \"\"\"\n",
    "MATCH (cause) -[:CAUSES]-> (effect), (generalisation) -[:GENERALISES]-> (cause)\n",
    "CREATE(generalisation) -[:CAUSES {type:'inferred'}]-> (effect)\n",
    "\"\"\"\n",
    "\n",
    "graph.cypher.execute(query)\n",
    "\n",
    "draw(graph, options)"
   ]
  },
  {
   "cell_type": "code",
   "execution_count": 10,
   "metadata": {
    "collapsed": false
   },
   "outputs": [
    {
     "data": {
      "text/html": [
       "\n",
       "        <iframe\n",
       "            width=\"100%\"\n",
       "            height=\"400\"\n",
       "            src=\"figure/graph-260ae4da-f2da-4e49-8cc8-e72c3b20c2fc.html\"\n",
       "            frameborder=\"0\"\n",
       "            allowfullscreen\n",
       "        ></iframe>\n",
       "        "
      ],
      "text/plain": [
       "<IPython.lib.display.IFrame at 0x10457f400>"
      ]
     },
     "execution_count": 10,
     "metadata": {},
     "output_type": "execute_result"
    }
   ],
   "source": [
    "# infer new causal relation between \"productivity\" and \"PCO2 of the last ice age\"\n",
    "\n",
    "query = \"\"\"\n",
    "MATCH (cause) -[:CAUSES]-> (effect), (generalisation) -[:GENERALISES]-> (effect)\n",
    "CREATE(cause) -[:CAUSES {type:'inferred'}]-> (generalisation)\n",
    "\"\"\"\n",
    "\n",
    "graph.cypher.execute(query)\n",
    "\n",
    "draw(graph, options)"
   ]
  },
  {
   "cell_type": "code",
   "execution_count": 11,
   "metadata": {
    "collapsed": false
   },
   "outputs": [
    {
     "name": "stdout",
     "output_type": "stream",
     "text": [
      "Increase of iron to seawater ==> Increase of phytoplankton\n",
      "\n",
      "Increase of iron to seawater ==> Increase of primary producers\n",
      "\n",
      "Increase of iron to seawater ==> Increase of primary producers ==> Increase of productivity\n",
      "\n",
      "Increase of iron to seawater ==> Increase of primary producers ==> Increase of productivity ==> Decrease of PCO2 of the last ice age\n",
      "\n",
      "Increase of iron to seawater ==> Increase of primary producers ==> Increase of productivity ==> Decrease of PCO2\n",
      "\n"
     ]
    }
   ],
   "source": [
    "# extract causal chains\n",
    "\n",
    "query = \"\"\"\n",
    "MATCH path = (:Increase {var:'iron to seawater'})-[:CAUSES*]->()\n",
    "WITH extract(node IN nodes(path) | head(Labels(node)) + ' of ' + node.var) AS chains\n",
    "RETURN chains\n",
    "\"\"\"\n",
    "\n",
    "# print hypotheses\n",
    "result = graph.cypher.execute(query)\n",
    "for row in result:\n",
    "        print(\" ==> \".join(row[0]) + \"\\n\")"
   ]
  },
  {
   "cell_type": "markdown",
   "metadata": {
    "collapsed": true
   },
   "source": [
    "This approach works for a simple example like this, but does not scale very well. For instance, the ISA and GENERALISES relations hold among __events__ rather than __variables__, so you need three edges:\n",
    "\n",
    "- change in phytoplankton ISA change in primary producers\n",
    "- increase in phytoplankton ISA increase in primary producers\n",
    "- decrease in phytoplankton ISA decrease in primary producers\n",
    "\n",
    "However, what you want to do is say:\n",
    "\n",
    "- phytoplankton ISA primary producers\n",
    "\n",
    "This can only be done if the variables become separate nodes, connected to events.  \n"
   ]
  },
  {
   "cell_type": "code",
   "execution_count": null,
   "metadata": {
    "collapsed": true
   },
   "outputs": [],
   "source": []
  }
 ],
 "metadata": {
  "kernelspec": {
   "display_name": "Python 3",
   "language": "python",
   "name": "python3"
  },
  "language_info": {
   "codemirror_mode": {
    "name": "ipython",
    "version": 3
   },
   "file_extension": ".py",
   "mimetype": "text/x-python",
   "name": "python",
   "nbconvert_exporter": "python",
   "pygments_lexer": "ipython3",
   "version": "3.5.0"
  }
 },
 "nbformat": 4,
 "nbformat_minor": 0
}
