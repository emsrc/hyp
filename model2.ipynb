{
 "cells": [
  {
   "cell_type": "markdown",
   "metadata": {},
   "source": [
    "# Model 2"
   ]
  },
  {
   "cell_type": "markdown",
   "metadata": {},
   "source": [
    "Second attempt at modelling the Iron Hypothesis with graphs. Here we use separate nodes for Increase/Decrease events and their variables."
   ]
  },
  {
   "cell_type": "code",
   "execution_count": 1,
   "metadata": {
    "collapsed": true
   },
   "outputs": [],
   "source": [
    "from py2neo import Graph, Node, Relationship\n",
    "from scripts.vis import draw"
   ]
  },
  {
   "cell_type": "markdown",
   "metadata": {},
   "source": [
    "Build initial graph."
   ]
  },
  {
   "cell_type": "code",
   "execution_count": 2,
   "metadata": {
    "collapsed": false
   },
   "outputs": [
    {
     "data": {
      "text/html": [
       "\n",
       "        <iframe\n",
       "            width=\"100%\"\n",
       "            height=\"400\"\n",
       "            src=\"figure/graph-ed427776-909c-4526-a473-6eeffb3f0bb8.html\"\n",
       "            frameborder=\"0\"\n",
       "            allowfullscreen\n",
       "        ></iframe>\n",
       "        "
      ],
      "text/plain": [
       "<IPython.lib.display.IFrame at 0x104553080>"
      ]
     },
     "execution_count": 2,
     "metadata": {},
     "output_type": "execute_result"
    }
   ],
   "source": [
    "graph = Graph()\n",
    "\n",
    "graph.delete_all()\n",
    "options = {\"Var\": \"name\", \"Increase\": \"label\", \"Decrease\": \"label\"}\n",
    "\n",
    "event1 = Node(\"Increase\", label=\"+\")\n",
    "iron = Node(\"Var\", name=\"iron to seawater\")\n",
    "graph.create(Relationship(event1, \"THEME\", iron))\n",
    "\n",
    "event2 = Node(\"Increase\", label=\"+\")\n",
    "phytoplankton = Node(\"Var\", name=\"phytoplankton\")\n",
    "graph.create(Relationship(event2, \"THEME\", phytoplankton))\n",
    "\n",
    "graph.create(Relationship(event1, \"CAUSES\", event2))\n",
    "\n",
    "producer = Node(\"Var\", name=\"primary producer\")\n",
    "graph.create(Relationship(phytoplankton, \"ISA\", producer))\n",
    "\n",
    "event3 = Node(\"Increase\", label=\"+\")\n",
    "graph.create(Relationship(event3, \"THEME\", producer))\n",
    "\n",
    "event4 = Node(\"Increase\", label=\"+\")\n",
    "productivity = Node(\"Var\", name=\"productivity\")\n",
    "graph.create(Relationship(event4, \"THEME\", productivity))\n",
    "\n",
    "graph.create(Relationship(event3, \"CAUSES\", event4))\n",
    "\n",
    "\n",
    "draw(graph, options)"
   ]
  },
  {
   "cell_type": "markdown",
   "metadata": {},
   "source": [
    "Inference step:\n",
    "if phytoplankton is increasing and phytoplankton is a primary producer, \n",
    "then primary producers are increasing."
   ]
  },
  {
   "cell_type": "code",
   "execution_count": 3,
   "metadata": {
    "collapsed": false
   },
   "outputs": [
    {
     "data": {
      "text/html": [
       "\n",
       "        <iframe\n",
       "            width=\"100%\"\n",
       "            height=\"400\"\n",
       "            src=\"figure/graph-20d7f140-5fc2-4457-86a6-22757ad6e156.html\"\n",
       "            frameborder=\"0\"\n",
       "            allowfullscreen\n",
       "        ></iframe>\n",
       "        "
      ],
      "text/plain": [
       "<IPython.lib.display.IFrame at 0x104594668>"
      ]
     },
     "execution_count": 3,
     "metadata": {},
     "output_type": "execute_result"
    }
   ],
   "source": [
    "query = \"\"\"\n",
    "MATCH (event1:Increase) -[:THEME]-> (var1) -[:ISA]-> (var2) <-[:THEME]- (event2:Increase)\n",
    "CREATE (event1) -[:IMPLIES]-> (event2)\n",
    "\"\"\"\n",
    "\n",
    "graph.cypher.execute(query)\n",
    "\n",
    "draw(graph, options)"
   ]
  },
  {
   "cell_type": "markdown",
   "metadata": {},
   "source": [
    "Build second part of graph"
   ]
  },
  {
   "cell_type": "code",
   "execution_count": 4,
   "metadata": {
    "collapsed": false
   },
   "outputs": [
    {
     "data": {
      "text/html": [
       "\n",
       "        <iframe\n",
       "            width=\"100%\"\n",
       "            height=\"400\"\n",
       "            src=\"figure/graph-bea2ef96-78b2-41a8-b3fd-f7df3bb078c6.html\"\n",
       "            frameborder=\"0\"\n",
       "            allowfullscreen\n",
       "        ></iframe>\n",
       "        "
      ],
      "text/plain": [
       "<IPython.lib.display.IFrame at 0x1045a2128>"
      ]
     },
     "execution_count": 4,
     "metadata": {},
     "output_type": "execute_result"
    }
   ],
   "source": [
    "net_high_lat_prod = Node(\"Var\", name=\"the net high latitude productivity\")\n",
    "event5 = Node(\"Increase\", label=\"+\")\n",
    "graph.create(Relationship(event5, \"THEME\", net_high_lat_prod))\n",
    "\n",
    "pco2_ice_age = Node(\"Var\", name=\"PCO2 of the last ice age\")\n",
    "event6 = Node(\"Decrease\", label=\"-\")\n",
    "graph.create(Relationship(event6, \"THEME\", pco2_ice_age))\n",
    "\n",
    "graph.create(Relationship(event5, \"CAUSES\", event6))\n",
    "\n",
    "graph.create(Relationship(productivity, \"GENERALISES\", net_high_lat_prod))\n",
    "\n",
    "pco2 = Node(\"Var\", name=\"PCO2\")\n",
    "graph.create(Relationship(pco2, \"GENERALISES\", pco2_ice_age))\n",
    "\n",
    "draw(graph, options)"
   ]
  },
  {
   "cell_type": "markdown",
   "metadata": {},
   "source": [
    "Second inference step:\n",
    "\n",
    "an increase in the net high lattitude productivity implies an increase in productivity "
   ]
  },
  {
   "cell_type": "code",
   "execution_count": 5,
   "metadata": {
    "collapsed": false
   },
   "outputs": [
    {
     "data": {
      "text/html": [
       "\n",
       "        <iframe\n",
       "            width=\"100%\"\n",
       "            height=\"400\"\n",
       "            src=\"figure/graph-a9c3af55-b11c-4e34-9324-b951d300d4d5.html\"\n",
       "            frameborder=\"0\"\n",
       "            allowfullscreen\n",
       "        ></iframe>\n",
       "        "
      ],
      "text/plain": [
       "<IPython.lib.display.IFrame at 0x1045659e8>"
      ]
     },
     "execution_count": 5,
     "metadata": {},
     "output_type": "execute_result"
    }
   ],
   "source": [
    "query = \"\"\"\n",
    "MATCH (event1:Increase) -[:THEME]-> (var1) -[:GENERALISES]-> (var2) <-[:THEME]- (event2:Increase)\n",
    "CREATE (event2) -[:IMPLIES]-> (event1)\n",
    "\"\"\"\n",
    "\n",
    "graph.cypher.execute(query)\n",
    "\n",
    "draw(graph, options)"
   ]
  },
  {
   "cell_type": "markdown",
   "metadata": {},
   "source": [
    "Second inference: \n",
    "\n",
    "a decrease in PCO2 in the last ice age implies a decrease in PCO2."
   ]
  },
  {
   "cell_type": "code",
   "execution_count": 6,
   "metadata": {
    "collapsed": false
   },
   "outputs": [
    {
     "data": {
      "text/html": [
       "\n",
       "        <iframe\n",
       "            width=\"100%\"\n",
       "            height=\"400\"\n",
       "            src=\"figure/graph-4d94862b-5d6e-4ff1-b906-b5f3e6601fe0.html\"\n",
       "            frameborder=\"0\"\n",
       "            allowfullscreen\n",
       "        ></iframe>\n",
       "        "
      ],
      "text/plain": [
       "<IPython.lib.display.IFrame at 0x1045d97b8>"
      ]
     },
     "execution_count": 6,
     "metadata": {},
     "output_type": "execute_result"
    }
   ],
   "source": [
    "query = \"\"\"\n",
    "MATCH (event1:Decrease) -[:THEME]-> (var1) <-[:GENERALISES]-> (var2) \n",
    "CREATE (event1) -[:IMPLIES]-> (:Decrease {label: \"-\"}) -[:THEME]-> (var2)\n",
    "\"\"\"\n",
    "\n",
    "graph.cypher.execute(query)\n",
    "\n",
    "draw(graph, options)"
   ]
  },
  {
   "cell_type": "markdown",
   "metadata": {},
   "source": [
    "Now find variables related to \"iron to seawater\" by following paths over CAUSES, IMPLIES or THEME relations."
   ]
  },
  {
   "cell_type": "code",
   "execution_count": 66,
   "metadata": {
    "collapsed": false
   },
   "outputs": [
    {
     "data": {
      "text/plain": [
       "   | var1.name        | var2.name                         \n",
       "---+------------------+------------------------------------\n",
       " 1 | iron to seawater | phytoplankton                     \n",
       " 2 | iron to seawater | primary producer                  \n",
       " 3 | iron to seawater | productivity                      \n",
       " 4 | iron to seawater | the net high latitude productivity\n",
       " 5 | iron to seawater | PCO2 of the last ice age          \n",
       " 6 | iron to seawater | PCO2                              "
      ]
     },
     "execution_count": 66,
     "metadata": {},
     "output_type": "execute_result"
    }
   ],
   "source": [
    "query = \"\"\"\n",
    "MATCH (var1:Var {name:'iron to seawater'}) -[:CAUSES|IMPLIES|THEME*]- (var2:Var) \n",
    "RETURN var1.name, var2.name\n",
    "\"\"\"\n",
    "\n",
    "graph.cypher.execute(query)"
   ]
  },
  {
   "cell_type": "markdown",
   "metadata": {},
   "source": [
    "Explicitly match the events, so we know if a variable if changing, increasing or decreasing."
   ]
  },
  {
   "cell_type": "code",
   "execution_count": 7,
   "metadata": {
    "collapsed": false
   },
   "outputs": [
    {
     "data": {
      "text/plain": [
       "   | event1.label | var1.name        | event2.label | var2.name                         \n",
       "---+--------------+------------------+--------------+------------------------------------\n",
       " 1 | +            | iron to seawater | +            | phytoplankton                     \n",
       " 2 | +            | iron to seawater | +            | primary producer                  \n",
       " 3 | +            | iron to seawater | +            | productivity                      \n",
       " 4 | +            | iron to seawater | +            | the net high latitude productivity\n",
       " 5 | +            | iron to seawater | -            | PCO2 of the last ice age          \n",
       " 6 | +            | iron to seawater | -            | PCO2                              "
      ]
     },
     "execution_count": 7,
     "metadata": {},
     "output_type": "execute_result"
    }
   ],
   "source": [
    "query = \"\"\"\n",
    "MATCH (var1:Var {name:'iron to seawater'}) <-[:THEME]- (event1) -[:CAUSES|IMPLIES|THEME*]- (event2) -[:THEME] -> (var2:Var) \n",
    "RETURN event1.label, var1.name, event2.label, var2.name\n",
    "\"\"\"\n",
    "\n",
    "graph.cypher.execute(query)"
   ]
  },
  {
   "cell_type": "code",
   "execution_count": null,
   "metadata": {
    "collapsed": true
   },
   "outputs": [],
   "source": []
  }
 ],
 "metadata": {
  "kernelspec": {
   "display_name": "Python 3",
   "language": "python",
   "name": "python3"
  },
  "language_info": {
   "codemirror_mode": {
    "name": "ipython",
    "version": 3
   },
   "file_extension": ".py",
   "mimetype": "text/x-python",
   "name": "python",
   "nbconvert_exporter": "python",
   "pygments_lexer": "ipython3",
   "version": "3.5.1"
  }
 },
 "nbformat": 4,
 "nbformat_minor": 0
}
